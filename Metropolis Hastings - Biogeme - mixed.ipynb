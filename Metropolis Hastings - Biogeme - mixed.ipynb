{
 "cells": [
  {
   "cell_type": "code",
   "execution_count": 1,
   "id": "75658e4f",
   "metadata": {},
   "outputs": [],
   "source": [
    "import numpy as np\n",
    "import pandas as pd\n",
    "import matplotlib.pyplot as plt\n",
    "import biogeme.database as db\n",
    "import biogeme.biogeme as bio\n",
    "from biogeme import models\n",
    "from biogeme.expressions import Beta, DefineVariable\n",
    "import scipy.sparse as sp\n",
    "import scipy.sparse.linalg as spln\n",
    "import metropolishastings as mh\n",
    "from state import State"
   ]
  },
  {
   "cell_type": "markdown",
   "id": "4baf0135",
   "metadata": {},
   "source": [
    "We use the Metropolis-Hastings algorithm to perform Bayesian estimation of the unkown parameters of a logit model. \n"
   ]
  },
  {
   "cell_type": "markdown",
   "id": "731e876b",
   "metadata": {},
   "source": [
    "# Definition of the choice model and the log likelihood"
   ]
  },
  {
   "cell_type": "markdown",
   "id": "de6b83a2",
   "metadata": {},
   "source": [
    "Load and clean the data"
   ]
  },
  {
   "cell_type": "code",
   "execution_count": 2,
   "id": "55c048d1",
   "metadata": {},
   "outputs": [],
   "source": [
    "df = pd.read_csv('swissmetro.dat', sep='\\t')\n",
    "database = db.Database(\"swissmetro\",df)\n",
    "globals().update(database.variables)\n",
    "exclude = (( PURPOSE != 1 ) * (  PURPOSE   !=  3  ) +  ( CHOICE == 0 )) > 0\n",
    "database.remove(exclude)\n"
   ]
  },
  {
   "cell_type": "markdown",
   "id": "2ca138e1",
   "metadata": {},
   "source": [
    "Parameters to be estimated"
   ]
  },
  {
   "cell_type": "code",
   "execution_count": 3,
   "id": "d31dae2c",
   "metadata": {},
   "outputs": [],
   "source": [
    "ASC_CAR = Beta('ASC_CAR', 0, None, None, 0)\n",
    "ASC_TRAIN = Beta('ASC_TRAIN', 0, None, None, 0)\n",
    "ASC_SM = Beta('ASC_SM', 0, None, None, 1)\n",
    "B_TIME = Beta('B_TIME', 0, None, None, 0)\n",
    "B_COST = Beta('B_COST', 0, None, None, 0)"
   ]
  },
  {
   "cell_type": "markdown",
   "id": "73bc6bc9",
   "metadata": {},
   "source": [
    "Definition of new variables"
   ]
  },
  {
   "cell_type": "code",
   "execution_count": 4,
   "id": "d9db2e61",
   "metadata": {},
   "outputs": [],
   "source": [
    "SM_COST = SM_CO * (GA == 0)\n",
    "TRAIN_COST = TRAIN_CO * (GA == 0)\n",
    "\n",
    "# Definition of new variables: adding columns to the database\n",
    "CAR_AV_SP = DefineVariable('CAR_AV_SP', CAR_AV * (SP != 0), database)\n",
    "TRAIN_AV_SP = DefineVariable('TRAIN_AV_SP', TRAIN_AV * (SP != 0), database)\n",
    "TRAIN_TT_SCALED = DefineVariable('TRAIN_TT_SCALED', TRAIN_TT / 100.0, database)\n",
    "TRAIN_COST_SCALED = DefineVariable(\n",
    "    'TRAIN_COST_SCALED', TRAIN_COST / 100, database\n",
    ")\n",
    "SM_TT_SCALED = DefineVariable('SM_TT_SCALED', SM_TT / 100.0, database)\n",
    "SM_COST_SCALED = DefineVariable('SM_COST_SCALED', SM_COST / 100, database)\n",
    "CAR_TT_SCALED = DefineVariable('CAR_TT_SCALED', CAR_TT / 100, database)\n",
    "CAR_CO_SCALED = DefineVariable('CAR_CO_SCALED', CAR_CO / 100, database)\n"
   ]
  },
  {
   "cell_type": "markdown",
   "id": "9a842023",
   "metadata": {},
   "source": [
    "Definition of the utility functions"
   ]
  },
  {
   "cell_type": "code",
   "execution_count": 5,
   "id": "bf8d3104",
   "metadata": {},
   "outputs": [],
   "source": [
    "V1 = ASC_TRAIN + B_TIME * TRAIN_TT_SCALED + B_COST * TRAIN_COST_SCALED\n",
    "V2 = ASC_SM + B_TIME * SM_TT_SCALED + B_COST * SM_COST_SCALED\n",
    "V3 = ASC_CAR + B_TIME * CAR_TT_SCALED + B_COST * CAR_CO_SCALED"
   ]
  },
  {
   "cell_type": "markdown",
   "id": "a9f249c8",
   "metadata": {},
   "source": [
    "Associate utility functions with the numbering of alternatives"
   ]
  },
  {
   "cell_type": "code",
   "execution_count": 6,
   "id": "c13d0bf0",
   "metadata": {},
   "outputs": [],
   "source": [
    "V = {1: V1, 2: V2, 3: V3}"
   ]
  },
  {
   "cell_type": "markdown",
   "id": "40daca9a",
   "metadata": {},
   "source": [
    "Associate the availability conditions with the alternatives"
   ]
  },
  {
   "cell_type": "code",
   "execution_count": 7,
   "id": "9c496160",
   "metadata": {},
   "outputs": [],
   "source": [
    "av = {1: TRAIN_AV_SP, 2: SM_AV, 3: CAR_AV_SP}"
   ]
  },
  {
   "cell_type": "markdown",
   "id": "22f08cf5",
   "metadata": {},
   "source": [
    "Definition of the model. This is the contribution of each\n",
    "observation to the log likelihood function."
   ]
  },
  {
   "cell_type": "code",
   "execution_count": 8,
   "id": "be342024",
   "metadata": {},
   "outputs": [],
   "source": [
    "logprob = models.loglogit(V, av, CHOICE)"
   ]
  },
  {
   "cell_type": "markdown",
   "id": "1d66b55d",
   "metadata": {},
   "source": [
    "Create the Biogeme object"
   ]
  },
  {
   "cell_type": "code",
   "execution_count": 9,
   "id": "5ffab0c0",
   "metadata": {},
   "outputs": [],
   "source": [
    "biogeme = bio.BIOGEME(database, logprob)\n",
    "biogeme.modelName = '01logit'\n",
    "biogeme.generateHtml = False\n",
    "biogeme.generatePickle = False"
   ]
  },
  {
   "cell_type": "markdown",
   "id": "70c4880b",
   "metadata": {},
   "source": [
    "# Estimation with maximum likelihood"
   ]
  },
  {
   "cell_type": "markdown",
   "id": "c9f90aea",
   "metadata": {},
   "source": [
    "We first estimate thre parameters with maximum likelihood, to have a reference."
   ]
  },
  {
   "cell_type": "code",
   "execution_count": 10,
   "id": "60d8f62c",
   "metadata": {},
   "outputs": [],
   "source": [
    "results = biogeme.estimate()"
   ]
  },
  {
   "cell_type": "code",
   "execution_count": 11,
   "id": "5eae87eb",
   "metadata": {},
   "outputs": [
    {
     "data": {
      "text/html": [
       "<div>\n",
       "<style scoped>\n",
       "    .dataframe tbody tr th:only-of-type {\n",
       "        vertical-align: middle;\n",
       "    }\n",
       "\n",
       "    .dataframe tbody tr th {\n",
       "        vertical-align: top;\n",
       "    }\n",
       "\n",
       "    .dataframe thead th {\n",
       "        text-align: right;\n",
       "    }\n",
       "</style>\n",
       "<table border=\"1\" class=\"dataframe\">\n",
       "  <thead>\n",
       "    <tr style=\"text-align: right;\">\n",
       "      <th></th>\n",
       "      <th>Value</th>\n",
       "      <th>Std err</th>\n",
       "      <th>t-test</th>\n",
       "      <th>p-value</th>\n",
       "      <th>Rob. Std err</th>\n",
       "      <th>Rob. t-test</th>\n",
       "      <th>Rob. p-value</th>\n",
       "    </tr>\n",
       "  </thead>\n",
       "  <tbody>\n",
       "    <tr>\n",
       "      <th>ASC_CAR</th>\n",
       "      <td>-0.154633</td>\n",
       "      <td>0.043235</td>\n",
       "      <td>-3.576524</td>\n",
       "      <td>0.000348</td>\n",
       "      <td>0.058163</td>\n",
       "      <td>-2.658590</td>\n",
       "      <td>0.007847</td>\n",
       "    </tr>\n",
       "    <tr>\n",
       "      <th>ASC_TRAIN</th>\n",
       "      <td>-0.701187</td>\n",
       "      <td>0.054874</td>\n",
       "      <td>-12.778150</td>\n",
       "      <td>0.000000</td>\n",
       "      <td>0.082562</td>\n",
       "      <td>-8.492857</td>\n",
       "      <td>0.000000</td>\n",
       "    </tr>\n",
       "    <tr>\n",
       "      <th>B_COST</th>\n",
       "      <td>-1.083790</td>\n",
       "      <td>0.051830</td>\n",
       "      <td>-20.910405</td>\n",
       "      <td>0.000000</td>\n",
       "      <td>0.068225</td>\n",
       "      <td>-15.885521</td>\n",
       "      <td>0.000000</td>\n",
       "    </tr>\n",
       "    <tr>\n",
       "      <th>B_TIME</th>\n",
       "      <td>-1.277859</td>\n",
       "      <td>0.056883</td>\n",
       "      <td>-22.464561</td>\n",
       "      <td>0.000000</td>\n",
       "      <td>0.104254</td>\n",
       "      <td>-12.257120</td>\n",
       "      <td>0.000000</td>\n",
       "    </tr>\n",
       "  </tbody>\n",
       "</table>\n",
       "</div>"
      ],
      "text/plain": [
       "              Value   Std err     t-test   p-value  Rob. Std err  Rob. t-test  \\\n",
       "ASC_CAR   -0.154633  0.043235  -3.576524  0.000348      0.058163    -2.658590   \n",
       "ASC_TRAIN -0.701187  0.054874 -12.778150  0.000000      0.082562    -8.492857   \n",
       "B_COST    -1.083790  0.051830 -20.910405  0.000000      0.068225   -15.885521   \n",
       "B_TIME    -1.277859  0.056883 -22.464561  0.000000      0.104254   -12.257120   \n",
       "\n",
       "           Rob. p-value  \n",
       "ASC_CAR        0.007847  \n",
       "ASC_TRAIN      0.000000  \n",
       "B_COST         0.000000  \n",
       "B_TIME         0.000000  "
      ]
     },
     "execution_count": 11,
     "metadata": {},
     "output_type": "execute_result"
    }
   ],
   "source": [
    "results.getEstimatedParameters()"
   ]
  },
  {
   "cell_type": "markdown",
   "id": "1c076161",
   "metadata": {},
   "source": [
    "# Estimation with the Metropolis-Hastings algorithm"
   ]
  },
  {
   "cell_type": "markdown",
   "id": "b08a2086",
   "metadata": {},
   "source": [
    "First, we define a function that calculates the log of the pdf of a Normal distribution $N(\\mu, \\Sigma)$ of dimension $k$:\n",
    "$$ f(x) = -\\frac{1}{2}\\left(k \\ln(2\\pi) + \\ln \\text{det}(\\Sigma) + (x-\\mu)^T \\Sigma^{-1}(x-\\mu) \\right).$$"
   ]
  },
  {
   "cell_type": "code",
   "execution_count": 12,
   "id": "38974a28",
   "metadata": {},
   "outputs": [],
   "source": [
    "def lognormpdf(x, mu=None, S=None):\n",
    "    \"\"\"Calculate gaussian probability density of x, when x ~ N(mu,sigma)\"\"\"\n",
    "    nx = x.size\n",
    "    if mu is None:\n",
    "        mu = np.array([0] * nx)\n",
    "    if S is None:\n",
    "        S = np.identity(nx)\n",
    "\n",
    "    if sp.issparse(S):\n",
    "        lu = spln.splu(S)\n",
    "        diagL = lu.L.diagonal()\n",
    "        diagU = lu.U.diagonal()\n",
    "        logdet = np.log(diagL).sum() + np.log(diagU).sum()\n",
    "    else:\n",
    "        logdet = np.linalg.slogdet(S)[1] \n",
    "    norm_coeff = nx * np.log(2 * np.pi) + logdet\n",
    "\n",
    "    err = x - mu\n",
    "    if sp.issparse(S):\n",
    "        numerator = spln.spsolve(S, err).T.dot(err)\n",
    "    else:\n",
    "        numerator = np.linalg.solve(S, err).T.dot(err)\n",
    "\n",
    "    return -0.5 * (norm_coeff + numerator)\n"
   ]
  },
  {
   "cell_type": "markdown",
   "id": "13f5eb46",
   "metadata": {},
   "source": [
    "Here, the state is a vector with the values of the parameters."
   ]
  },
  {
   "cell_type": "code",
   "execution_count": 13,
   "id": "b8e94230",
   "metadata": {},
   "outputs": [],
   "source": [
    "class Parameters(State):\n",
    "    def __init__(\n",
    "        self, \n",
    "        beta, \n",
    "        mixture_proba, \n",
    "        step_random_walk, \n",
    "        step_gradient\n",
    "    ):\n",
    "        \"\"\"Constructor\n",
    "        \"\"\"\n",
    "        self.beta = beta\n",
    "        self.mixture_proba = mixture_proba\n",
    "        self.loglike, self.g, _, _ = (\n",
    "            biogeme.calculateLikelihoodAndDerivatives(\n",
    "                beta,\n",
    "                scaled=False,\n",
    "            )\n",
    "        )\n",
    "        self.step_random_walk = step_random_walk\n",
    "        self.step_gradient = step_gradient\n",
    "        self.variance = 1000\n",
    "   \n",
    "    def indicators(self):\n",
    "        \"\"\"The indicators are the parameters of interest, generated \n",
    "        by each draw. In this case, the indicators are the states \n",
    "        themselves.\n",
    "\n",
    "        :return: array of indicators\n",
    "        :rtype: numpy.array()\n",
    "        \"\"\"\n",
    "        return self.beta\n",
    "\n",
    "    def next_state(self):\n",
    "        \"\"\"The generating Markov process is mixed. \n",
    "        With probability p, it performs a random walk. With \n",
    "        probability (1-p), it performs first a gradient \n",
    "        step, followed by a random walk, \n",
    "        with a fixed step. Note that these jumps are not symmetric.\n",
    "\n",
    "        :return: state, logpij, logpji\n",
    "        :rtype: State, float, float\n",
    "\n",
    "\n",
    "        \"\"\"\n",
    "        ksi = np.random.normal(size=len(self.beta))\n",
    "        if np.random.uniform() <= self.mixture_proba:\n",
    "            next_beta = self.beta + self.step_random_walk * ksi\n",
    "        else:\n",
    "            # We move along the gradient\n",
    "            betaGrad = self.beta + self.step_gradient * self.g\n",
    "            # We perform a random walk from there\n",
    "            next_beta = betaGrad + self.step_random_walk * ksi\n",
    "        \n",
    "        # This is the next state\n",
    "        next_state = Parameters(\n",
    "            next_beta, \n",
    "            self.mixture_proba,\n",
    "            self.step_random_walk,\n",
    "            self.step_gradient)\n",
    "        \n",
    "        \n",
    "        # Forward transition probability\n",
    "        logQij = lognormpdf(ksi)\n",
    "        \n",
    "        # Backward transition probability for the random walk\n",
    "        logQji_rw = logQij\n",
    "        \n",
    "        # Backward transition probability for the gradient step\n",
    "        # We make first a gradient step from the next state\n",
    "        next_grad = next_beta + self.step_gradient * next_state.g\n",
    "        ksiback = (self.beta - next_grad) / self.step_random_walk\n",
    "        logQji_grad = lognormpdf(ksiback)\n",
    "\n",
    "        logQji = (\n",
    "            logQji_rw * self.mixture_proba + \n",
    "            logQji_grad * (1 - self.mixture_proba)\n",
    "        )\n",
    "        \n",
    "        return (\n",
    "            next_state, \n",
    "            logQij, \n",
    "            logQji,\n",
    "        )\n",
    "    \n",
    "    def logweight(self):\n",
    "        \"\"\"The weights are the numerator of the posterior probability, \n",
    "        which is the product of the likelihood and the prior. We \n",
    "        assume here that the prior is a vector of independent \n",
    "        normally distributed parameters, with mean 0, and variance 100. \n",
    "\n",
    "        :return: log of the weight\n",
    "        :rtype: float\n",
    "        \"\"\"\n",
    "        \n",
    "        logprior = lognormpdf(\n",
    "            self.beta, \n",
    "            mu=None, \n",
    "            S=sp.diags([self.variance]*self.beta.size, format = 'csc')\n",
    "        )\n",
    "        return logprior + self.loglike\n",
    "\n"
   ]
  },
  {
   "cell_type": "markdown",
   "id": "65cf40ce",
   "metadata": {},
   "source": [
    "We start four independent Markov processes, each starting from a different state."
   ]
  },
  {
   "cell_type": "code",
   "execution_count": 14,
   "id": "330fa2ee",
   "metadata": {},
   "outputs": [],
   "source": [
    "step_random_walk = 0.1\n",
    "step_gradient = 0.001\n",
    "mixture_prob = 0.2\n",
    "initialStates = [\n",
    "    Parameters(\n",
    "        np.array([0, 0, 0, 0]), \n",
    "        mixture_prob,\n",
    "        step_random_walk, \n",
    "        step_gradient\n",
    "    ),\n",
    "    Parameters(\n",
    "        np.array([-1, -1, -1, -1]), \n",
    "        mixture_prob,\n",
    "        step_random_walk, \n",
    "        step_gradient\n",
    "    ),\n",
    "    Parameters(\n",
    "        np.array([1, 1, -1, -1]), \n",
    "        mixture_prob,\n",
    "        step_random_walk, \n",
    "        step_gradient\n",
    "    ),\n",
    "    Parameters(\n",
    "        np.array([0, 0, -1, -1]), \n",
    "        mixture_prob,\n",
    "        step_random_walk, \n",
    "        step_gradient\n",
    "    ),\n",
    "]\n",
    "numberOfDraws = 100\n",
    "maxNumberOfIterations = 10"
   ]
  },
  {
   "cell_type": "markdown",
   "id": "369aeed0",
   "metadata": {},
   "source": [
    "We apply the MH algorithm."
   ]
  },
  {
   "cell_type": "code",
   "execution_count": 15,
   "id": "5ff1c055",
   "metadata": {
    "scrolled": true
   },
   "outputs": [
    {
     "name": "stdout",
     "output_type": "stream",
     "text": [
      "Warmup\n"
     ]
    },
    {
     "name": "stderr",
     "output_type": "stream",
     "text": [
      "100%|██████████| 100/100 [00:01<00:00, 92.80it/s]\n",
      "100%|██████████| 100/100 [00:01<00:00, 93.42it/s]\n",
      "100%|██████████| 100/100 [00:01<00:00, 92.63it/s]\n",
      "100%|██████████| 100/100 [00:01<00:00, 94.12it/s]\n"
     ]
    },
    {
     "name": "stdout",
     "output_type": "stream",
     "text": [
      "Trial 0 with 100 draws\n"
     ]
    },
    {
     "name": "stderr",
     "output_type": "stream",
     "text": [
      "100%|██████████| 100/100 [00:01<00:00, 94.07it/s]\n",
      "100%|██████████| 100/100 [00:01<00:00, 92.62it/s]\n",
      "100%|██████████| 100/100 [00:01<00:00, 89.06it/s]\n",
      "100%|██████████| 100/100 [00:01<00:00, 93.02it/s]\n"
     ]
    },
    {
     "name": "stdout",
     "output_type": "stream",
     "text": [
      "Generated draws: (4, 100, 4)\n",
      "Success rate: 0.115\n",
      "Success rate: 0.1\n",
      "Success rate: 0.155\n",
      "Success rate: 0.115\n",
      "Potential scale reduction: [1.18351508 1.17376206 1.31394571 1.41918796]\n",
      "    should be at most 1.1\n",
      "Effective number of simulation draws: [18.73030486 24.02257269 15.65081484  9.42790787]\n",
      "    should be at least 40\n",
      "Trial 1 with 500 draws\n"
     ]
    },
    {
     "name": "stderr",
     "output_type": "stream",
     "text": [
      "100%|██████████| 500/500 [00:05<00:00, 90.19it/s]\n",
      "100%|██████████| 500/500 [00:05<00:00, 88.57it/s]\n",
      "100%|██████████| 500/500 [00:05<00:00, 86.89it/s]\n",
      "100%|██████████| 500/500 [00:05<00:00, 86.71it/s]"
     ]
    },
    {
     "name": "stdout",
     "output_type": "stream",
     "text": [
      "Generated draws: (4, 500, 4)\n",
      "Success rate: 0.07142857142857142\n",
      "Success rate: 0.07428571428571429\n",
      "Success rate: 0.09\n",
      "Success rate: 0.11428571428571428\n",
      "Potential scale reduction: [1.03624624 1.05263877 1.01265567 1.05759557]\n",
      "    should be at most 1.1\n",
      "Effective number of simulation draws: [86.66984721 72.6790236  50.10357666 67.54828858]\n",
      "    should be at least 40\n"
     ]
    },
    {
     "name": "stderr",
     "output_type": "stream",
     "text": [
      "\n"
     ]
    }
   ],
   "source": [
    "draws, estimates, convergence, numberOfTrials = mh.MetropolisHastings(\n",
    "    initialStates,\n",
    "    numberOfDraws,\n",
    "    maxNumberOfIterations,\n",
    ")"
   ]
  },
  {
   "cell_type": "markdown",
   "id": "e3878aaa",
   "metadata": {},
   "source": [
    "Here are the estimated parameters"
   ]
  },
  {
   "cell_type": "code",
   "execution_count": 16,
   "id": "7979de62",
   "metadata": {},
   "outputs": [
    {
     "data": {
      "text/plain": [
       "array([-0.17038045, -0.71396   , -1.08191072, -1.26512244])"
      ]
     },
     "execution_count": 16,
     "metadata": {},
     "output_type": "execute_result"
    }
   ],
   "source": [
    "estimates"
   ]
  },
  {
   "cell_type": "markdown",
   "id": "e4318803",
   "metadata": {},
   "source": [
    "We can compare them with the estimates from maximum likelihood "
   ]
  },
  {
   "cell_type": "code",
   "execution_count": 17,
   "id": "fe9e4cec",
   "metadata": {},
   "outputs": [
    {
     "data": {
      "text/html": [
       "<div>\n",
       "<style scoped>\n",
       "    .dataframe tbody tr th:only-of-type {\n",
       "        vertical-align: middle;\n",
       "    }\n",
       "\n",
       "    .dataframe tbody tr th {\n",
       "        vertical-align: top;\n",
       "    }\n",
       "\n",
       "    .dataframe thead th {\n",
       "        text-align: right;\n",
       "    }\n",
       "</style>\n",
       "<table border=\"1\" class=\"dataframe\">\n",
       "  <thead>\n",
       "    <tr style=\"text-align: right;\">\n",
       "      <th></th>\n",
       "      <th>Value</th>\n",
       "      <th>Std err</th>\n",
       "      <th>t-test</th>\n",
       "      <th>p-value</th>\n",
       "      <th>Rob. Std err</th>\n",
       "      <th>Rob. t-test</th>\n",
       "      <th>Rob. p-value</th>\n",
       "    </tr>\n",
       "  </thead>\n",
       "  <tbody>\n",
       "    <tr>\n",
       "      <th>ASC_CAR</th>\n",
       "      <td>-0.154633</td>\n",
       "      <td>0.043235</td>\n",
       "      <td>-3.576524</td>\n",
       "      <td>0.000348</td>\n",
       "      <td>0.058163</td>\n",
       "      <td>-2.658590</td>\n",
       "      <td>0.007847</td>\n",
       "    </tr>\n",
       "    <tr>\n",
       "      <th>ASC_TRAIN</th>\n",
       "      <td>-0.701187</td>\n",
       "      <td>0.054874</td>\n",
       "      <td>-12.778150</td>\n",
       "      <td>0.000000</td>\n",
       "      <td>0.082562</td>\n",
       "      <td>-8.492857</td>\n",
       "      <td>0.000000</td>\n",
       "    </tr>\n",
       "    <tr>\n",
       "      <th>B_COST</th>\n",
       "      <td>-1.083790</td>\n",
       "      <td>0.051830</td>\n",
       "      <td>-20.910405</td>\n",
       "      <td>0.000000</td>\n",
       "      <td>0.068225</td>\n",
       "      <td>-15.885521</td>\n",
       "      <td>0.000000</td>\n",
       "    </tr>\n",
       "    <tr>\n",
       "      <th>B_TIME</th>\n",
       "      <td>-1.277859</td>\n",
       "      <td>0.056883</td>\n",
       "      <td>-22.464561</td>\n",
       "      <td>0.000000</td>\n",
       "      <td>0.104254</td>\n",
       "      <td>-12.257120</td>\n",
       "      <td>0.000000</td>\n",
       "    </tr>\n",
       "  </tbody>\n",
       "</table>\n",
       "</div>"
      ],
      "text/plain": [
       "              Value   Std err     t-test   p-value  Rob. Std err  Rob. t-test  \\\n",
       "ASC_CAR   -0.154633  0.043235  -3.576524  0.000348      0.058163    -2.658590   \n",
       "ASC_TRAIN -0.701187  0.054874 -12.778150  0.000000      0.082562    -8.492857   \n",
       "B_COST    -1.083790  0.051830 -20.910405  0.000000      0.068225   -15.885521   \n",
       "B_TIME    -1.277859  0.056883 -22.464561  0.000000      0.104254   -12.257120   \n",
       "\n",
       "           Rob. p-value  \n",
       "ASC_CAR        0.007847  \n",
       "ASC_TRAIN      0.000000  \n",
       "B_COST         0.000000  \n",
       "B_TIME         0.000000  "
      ]
     },
     "execution_count": 17,
     "metadata": {},
     "output_type": "execute_result"
    }
   ],
   "source": [
    "the_biogeme_parameters = results.getEstimatedParameters()\n",
    "the_biogeme_parameters"
   ]
  },
  {
   "cell_type": "code",
   "execution_count": 18,
   "id": "784d06bb",
   "metadata": {},
   "outputs": [
    {
     "data": {
      "text/plain": [
       "ASC_CAR     -0.015748\n",
       "ASC_TRAIN   -0.012773\n",
       "B_COST       0.001879\n",
       "B_TIME       0.012737\n",
       "Name: Value, dtype: float64"
      ]
     },
     "execution_count": 18,
     "metadata": {},
     "output_type": "execute_result"
    }
   ],
   "source": [
    "estimates - the_biogeme_parameters['Value']"
   ]
  },
  {
   "cell_type": "markdown",
   "id": "42f41384",
   "metadata": {},
   "source": [
    "We also calculate the empirical standard deviations, that can be also compared with the maximum likelihood estimates."
   ]
  },
  {
   "cell_type": "code",
   "execution_count": 19,
   "id": "4bbaa0df",
   "metadata": {},
   "outputs": [
    {
     "name": "stdout",
     "output_type": "stream",
     "text": [
      "0.043088147881422116\n",
      "0.04941672048047085\n",
      "0.045757125790599214\n",
      "0.05535386504316474\n"
     ]
    }
   ],
   "source": [
    "for d in draws:\n",
    "    print(np.std(d))"
   ]
  },
  {
   "cell_type": "markdown",
   "id": "3a5f2998",
   "metadata": {},
   "source": [
    "Finally, we plot the distribution of the generated draws, for each of the four parameters."
   ]
  },
  {
   "cell_type": "code",
   "execution_count": 20,
   "id": "39eafb15",
   "metadata": {},
   "outputs": [
    {
     "data": {
      "image/png": "[encoded data removed]",
      "text/plain": [
       "<Figure size 432x288 with 1 Axes>"
      ]
     },
     "metadata": {
      "needs_background": "light"
     },
     "output_type": "display_data"
    },
    {
     "data": {
      "image/png": "[encoded data removed]",
      "text/plain": [
       "<Figure size 432x288 with 1 Axes>"
      ]
     },
     "metadata": {
      "needs_background": "light"
     },
     "output_type": "display_data"
    },
    {
     "data": {
      "image/png": "[encoded data removed]",
      "text/plain": [
       "<Figure size 432x288 with 1 Axes>"
      ]
     },
     "metadata": {
      "needs_background": "light"
     },
     "output_type": "display_data"
    },
    {
     "data": {
      "image/png": "[encoded data removed]",
      "text/plain": [
       "<Figure size 432x288 with 1 Axes>"
      ]
     },
     "metadata": {
      "needs_background": "light"
     },
     "output_type": "display_data"
    }
   ],
   "source": [
    "for d in draws:\n",
    "    plt.hist(d)\n",
    "    plt.show()"
   ]
  }
 ],
 "metadata": {
  "kernelspec": {
   "display_name": "Python 3",
   "language": "python",
   "name": "python3"
  },
  "language_info": {
   "codemirror_mode": {
    "name": "ipython",
    "version": 3
   },
   "file_extension": ".py",
   "mimetype": "text/x-python",
   "name": "python",
   "nbconvert_exporter": "python",
   "pygments_lexer": "ipython3",
   "version": "3.9.5"
  }
 },
 "nbformat": 4,
 "nbformat_minor": 5
}
