{
 "cells": [
  {
   "cell_type": "code",
   "execution_count": 1,
   "id": "75658e4f",
   "metadata": {},
   "outputs": [],
   "source": [
    "import numpy as np\n",
    "import matplotlib.pyplot as plt\n",
    "import metropolishastings as mh\n",
    "from rhat_n_eff import rhat_n_eff"
   ]
  },
  {
   "cell_type": "code",
   "execution_count": 2,
   "id": "67c2eed7",
   "metadata": {},
   "outputs": [],
   "source": [
    "def myprocess(state):\n",
    "    next_state = np.random.randint(1, 4+1)\n",
    "    return next_state, 0.25, 0.25"
   ]
  },
  {
   "cell_type": "code",
   "execution_count": 3,
   "id": "9895492c",
   "metadata": {},
   "outputs": [],
   "source": [
    "def weight(state):\n",
    "    w = {\n",
    "        1: 20, \n",
    "        2: 8,\n",
    "        3: 3,\n",
    "        4: 1,\n",
    "    }\n",
    "    return w[state]"
   ]
  },
  {
   "cell_type": "markdown",
   "id": "35ad2470",
   "metadata": {},
   "source": [
    "Probabilites"
   ]
  },
  {
   "cell_type": "code",
   "execution_count": 4,
   "id": "8916b584",
   "metadata": {},
   "outputs": [
    {
     "data": {
      "text/plain": [
       "array([0.625  , 0.25   , 0.09375, 0.03125])"
      ]
     },
     "execution_count": 4,
     "metadata": {},
     "output_type": "execute_result"
    }
   ],
   "source": [
    "prob = np.array([20, 8, 3, 1])\n",
    "prob = prob / prob.sum()\n",
    "prob"
   ]
  },
  {
   "cell_type": "code",
   "execution_count": 5,
   "id": "e7c3d0d5",
   "metadata": {},
   "outputs": [],
   "source": [
    "def indicators(one_draw):\n",
    "    #result = 1 if one_draw == 1 else 0\n",
    "    result = [1 if (one_draw == i) else 0 for i in [1, 2, 3, 4]]\n",
    "    return result"
   ]
  },
  {
   "cell_type": "code",
   "execution_count": 6,
   "id": "330fa2ee",
   "metadata": {},
   "outputs": [],
   "source": [
    "initialStates = [1, 2, 3, 4]\n",
    "numberOfDraws = 100000\n",
    "maxNumberOfIterations = 10"
   ]
  },
  {
   "cell_type": "code",
   "execution_count": 7,
   "id": "5ff1c055",
   "metadata": {},
   "outputs": [
    {
     "name": "stdout",
     "output_type": "stream",
     "text": [
      "Before draws.shape=(4, 100000, 4)\n",
      "After draws.shape=(4, 4, 100000)\n",
      "RICO: rico_r=1.000020178426886 rico_n=98473.21961783161\n",
      "MICHEL: R_hat=1.000020178426886 neff=98473.21961783174\n",
      "RICO: rico_r=1.0000201942138456 rico_n=123279.55002306009\n",
      "MICHEL: R_hat=1.0000201942138456 neff=123279.55002306035\n",
      "RICO: rico_r=1.0000238847138394 rico_n=174501.07406927733\n",
      "MICHEL: R_hat=1.0000238847138394 neff=174501.07406927733\n",
      "RICO: rico_r=1.0000069686959312 rico_n=234077.08856384055\n",
      "MICHEL: R_hat=1.0000069686959312 neff=234077.08856384055\n"
     ]
    },
    {
     "data": {
      "text/plain": [
       "(array([0, 1, 1, ..., 0, 0, 0]),\n",
       " array([0.6238475, 0.2512475, 0.0935625, 0.0313425]),\n",
       " True,\n",
       " 0)"
      ]
     },
     "execution_count": 7,
     "metadata": {},
     "output_type": "execute_result"
    }
   ],
   "source": [
    "mh.MetropolisHastings(\n",
    "    initialStates,\n",
    "    myprocess,\n",
    "    weight,\n",
    "    indicators,\n",
    "    numberOfDraws,\n",
    "    maxNumberOfIterations,\n",
    ")"
   ]
  },
  {
   "cell_type": "code",
   "execution_count": 8,
   "id": "c04ca5de",
   "metadata": {},
   "outputs": [
    {
     "data": {
      "text/plain": [
       "array([0.625  , 0.25   , 0.09375, 0.03125])"
      ]
     },
     "execution_count": 8,
     "metadata": {},
     "output_type": "execute_result"
    }
   ],
   "source": [
    "prob"
   ]
  },
  {
   "cell_type": "code",
   "execution_count": null,
   "id": "7979de62",
   "metadata": {},
   "outputs": [],
   "source": []
  }
 ],
 "metadata": {
  "kernelspec": {
   "display_name": "Python 3",
   "language": "python",
   "name": "python3"
  },
  "language_info": {
   "codemirror_mode": {
    "name": "ipython",
    "version": 3
   },
   "file_extension": ".py",
   "mimetype": "text/x-python",
   "name": "python",
   "nbconvert_exporter": "python",
   "pygments_lexer": "ipython3",
   "version": "3.9.5"
  }
 },
 "nbformat": 4,
 "nbformat_minor": 5
}
