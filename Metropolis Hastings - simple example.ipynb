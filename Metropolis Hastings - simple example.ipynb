{
 "cells": [
  {
   "cell_type": "code",
   "execution_count": 1,
   "id": "75658e4f",
   "metadata": {},
   "outputs": [],
   "source": [
    "import numpy as np\n",
    "import metropolishastings as mh\n",
    "from state import State"
   ]
  },
  {
   "cell_type": "markdown",
   "id": "f8621f01",
   "metadata": {},
   "source": [
    "We use the Metropolis-Hastings algorithm to draw from a discrete random variable $X$ that takes 4 values, with the following pmf:\n",
    "\n",
    "- $P(X=1) = 20 / K$,\n",
    "- $P(X=2) = 8 / K$,\n",
    "- $P(X=3) = 3 / K$,\n",
    "- $P(X=4) = 1 / K$,\n",
    "\n",
    "where $K$ is the normalization factor that is such that the probabilities sum up to one. In this simple example, the value of $K$ can be calculated ($K=32$). But the point is that the MH algorithm does not need it. It works with unnormalized probabilities."
   ]
  },
  {
   "cell_type": "markdown",
   "id": "af8cf4e3",
   "metadata": {},
   "source": [
    "The generating Markov process is a random walk jumping from one state to the next with equal probability."
   ]
  },
  {
   "cell_type": "markdown",
   "id": "56b1c71a",
   "metadata": {},
   "source": [
    "We start four independent Markov processes, each staring from a different state."
   ]
  },
  {
   "cell_type": "code",
   "execution_count": 3,
   "id": "330fa2ee",
   "metadata": {},
   "outputs": [],
   "source": [
    "initialStates = [\n",
    "    simpleState(1), \n",
    "    simpleState(2), \n",
    "    simpleState(3), \n",
    "    simpleState(4)\n",
    "]\n",
    "numberOfDraws = 100000\n",
    "maxNumberOfIterations = 10"
   ]
  },
  {
   "cell_type": "markdown",
   "id": "dc38bea9",
   "metadata": {},
   "source": [
    "We apply the MH algorithm."
   ]
  },
  {
   "cell_type": "code",
   "execution_count": 4,
   "id": "5ff1c055",
   "metadata": {},
   "outputs": [
    {
     "name": "stdout",
     "output_type": "stream",
     "text": [
      "Warmup\n"
     ]
    },
    {
     "name": "stderr",
     "output_type": "stream",
     "text": [
      "100%|██████████| 100000/100000 [00:01<00:00, 70413.65it/s]\n",
      "100%|██████████| 100000/100000 [00:01<00:00, 71878.74it/s]\n",
      "100%|██████████| 100000/100000 [00:01<00:00, 70707.44it/s]\n",
      "100%|██████████| 100000/100000 [00:01<00:00, 70358.91it/s]\n"
     ]
    },
    {
     "name": "stdout",
     "output_type": "stream",
     "text": [
      "Trial 0 with 100000 draws\n",
      "Generated draws: (4, 100000, 4)\n",
      "Potential scale reduction: [1.00004676 1.00000681 1.00003289 1.00000657]\n",
      "    should be at most 1.1\n",
      "Effective number of simulation draws: [ 97109.24472324 124025.5450491  177377.27984322 233238.93063331]\n",
      "    should be at least 40\n"
     ]
    }
   ],
   "source": [
    "draws, estimates, convergence, numberOfTrials = mh.MetropolisHastings(\n",
    "    initialStates,\n",
    "    numberOfDraws,\n",
    "    maxNumberOfIterations,\n",
    ")"
   ]
  },
  {
   "cell_type": "markdown",
   "id": "0eb2305b",
   "metadata": {},
   "source": [
    "Here are the estimates for the frequency of each state."
   ]
  },
  {
   "cell_type": "code",
   "execution_count": 5,
   "id": "7979de62",
   "metadata": {},
   "outputs": [
    {
     "data": {
      "text/plain": [
       "array([0.625395 , 0.2492025, 0.0939275, 0.031475 ])"
      ]
     },
     "execution_count": 5,
     "metadata": {},
     "output_type": "execute_result"
    }
   ],
   "source": [
    "estimates"
   ]
  },
  {
   "cell_type": "markdown",
   "id": "6b3a2a92",
   "metadata": {},
   "source": [
    "We calculate the theoretical probabilities for comparison."
   ]
  },
  {
   "cell_type": "code",
   "execution_count": 7,
   "id": "8916b584",
   "metadata": {},
   "outputs": [
    {
     "data": {
      "text/plain": [
       "array([0.625  , 0.25   , 0.09375, 0.03125])"
      ]
     },
     "execution_count": 7,
     "metadata": {},
     "output_type": "execute_result"
    }
   ],
   "source": [
    "weights = [20, 8, 3, 1]\n",
    "prob = np.array(weights)\n",
    "prob = prob / prob.sum()\n",
    "prob"
   ]
  },
  {
   "cell_type": "markdown",
   "id": "e0221d59",
   "metadata": {},
   "source": [
    "With this simple example, the MArkov porcess had apparently reached stationarity with the first set of draws that was generated. Apparently, because the criteria used are heuristics, and not exact. "
   ]
  },
  {
   "cell_type": "code",
   "execution_count": 8,
   "id": "e16dc954",
   "metadata": {},
   "outputs": [
    {
     "data": {
      "text/plain": [
       "1"
      ]
     },
     "execution_count": 8,
     "metadata": {},
     "output_type": "execute_result"
    }
   ],
   "source": [
    "numberOfTrials"
   ]
  },
  {
   "cell_type": "markdown",
   "id": "e09b3f70",
   "metadata": {},
   "source": [
    "Here are the draws"
   ]
  },
  {
   "cell_type": "code",
   "execution_count": 9,
   "id": "93504531",
   "metadata": {},
   "outputs": [
    {
     "data": {
      "text/plain": [
       "array([[0, 1, 1, ..., 0, 0, 0],\n",
       "       [1, 0, 0, ..., 1, 1, 0],\n",
       "       [0, 0, 0, ..., 0, 0, 1],\n",
       "       [0, 0, 0, ..., 0, 0, 0]])"
      ]
     },
     "execution_count": 9,
     "metadata": {},
     "output_type": "execute_result"
    }
   ],
   "source": [
    "draws"
   ]
  },
  {
   "cell_type": "code",
   "execution_count": 10,
   "id": "52712288",
   "metadata": {},
   "outputs": [
    {
     "data": {
      "text/plain": [
       "(4, 400000)"
      ]
     },
     "execution_count": 10,
     "metadata": {},
     "output_type": "execute_result"
    }
   ],
   "source": [
    "draws.shape"
   ]
  },
  {
   "cell_type": "markdown",
   "id": "79b4de9a",
   "metadata": {},
   "source": [
    "We can verify the the mean of each series corresponds to the estimates reported above"
   ]
  },
  {
   "cell_type": "code",
   "execution_count": 11,
   "id": "b5f0fc1d",
   "metadata": {},
   "outputs": [
    {
     "data": {
      "text/plain": [
       "0.625395"
      ]
     },
     "execution_count": 11,
     "metadata": {},
     "output_type": "execute_result"
    }
   ],
   "source": [
    "draws[0].mean()"
   ]
  },
  {
   "cell_type": "code",
   "execution_count": 12,
   "id": "86bb6a26",
   "metadata": {},
   "outputs": [
    {
     "data": {
      "text/plain": [
       "0.2492025"
      ]
     },
     "execution_count": 12,
     "metadata": {},
     "output_type": "execute_result"
    }
   ],
   "source": [
    "draws[1].mean()"
   ]
  },
  {
   "cell_type": "code",
   "execution_count": 13,
   "id": "764e0b45",
   "metadata": {},
   "outputs": [
    {
     "data": {
      "text/plain": [
       "0.0939275"
      ]
     },
     "execution_count": 13,
     "metadata": {},
     "output_type": "execute_result"
    }
   ],
   "source": [
    "draws[2].mean()"
   ]
  },
  {
   "cell_type": "code",
   "execution_count": 14,
   "id": "b0e13bc1",
   "metadata": {},
   "outputs": [
    {
     "data": {
      "text/plain": [
       "0.031475"
      ]
     },
     "execution_count": 14,
     "metadata": {},
     "output_type": "execute_result"
    }
   ],
   "source": [
    "draws[3].mean()"
   ]
  }
 ],
 "metadata": {
  "kernelspec": {
   "display_name": "Python 3",
   "language": "python",
   "name": "python3"
  },
  "language_info": {
   "codemirror_mode": {
    "name": "ipython",
    "version": 3
   },
   "file_extension": ".py",
   "mimetype": "text/x-python",
   "name": "python",
   "nbconvert_exporter": "python",
   "pygments_lexer": "ipython3",
   "version": "3.9.5"
  }
 },
 "nbformat": 4,
 "nbformat_minor": 5
}
