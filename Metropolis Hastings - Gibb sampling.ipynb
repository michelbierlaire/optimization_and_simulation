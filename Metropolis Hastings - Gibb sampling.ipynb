{
 "cells": [
  {
   "cell_type": "code",
   "execution_count": 1,
   "id": "75658e4f",
   "metadata": {},
   "outputs": [],
   "source": [
    "import numpy as np\n",
    "import pandas as pd\n",
    "import matplotlib.pyplot as plt\n",
    "import scipy.sparse as sp\n",
    "import scipy.sparse.linalg as spln\n",
    "import metropolishastings as mh\n",
    "from state import State\n",
    "import seaborn as sns"
   ]
  },
  {
   "cell_type": "markdown",
   "id": "4baf0135",
   "metadata": {},
   "source": [
    "We use the Metropolis-Hastings algorithm to perform Gibbs sampling on a bivariate normal random variable:\n",
    "$$N\\left(\n",
    "\\left(\\begin{array}{c}\\mu_X\\\\\\mu_Y \\end{array}\\right), \n",
    "\\left(\\begin{array}{cc}\\sigma_X^2 & \\rho \\sigma_X \\sigma_Y \\\\ \\rho \\sigma_X \\sigma_Y & \\sigma_Y^2\\end{array} \\right)\\right).$$\n",
    "In this case, all draws will be accepted. \n"
   ]
  },
  {
   "cell_type": "markdown",
   "id": "b08a2086",
   "metadata": {},
   "source": [
    "First, we define a function that draws from the marginal distribution"
   ]
  },
  {
   "cell_type": "code",
   "execution_count": 2,
   "id": "38974a28",
   "metadata": {},
   "outputs": [],
   "source": [
    "def draw_marginals(mu_X, mu_Y, sigma_X, sigma_Y, rho, given, draw_from_X):\n",
    "    \"\"\"Draws from the marginals of the bivariate normal distribution.\n",
    "    \n",
    "    :param mu_X: location parameter for X\n",
    "    :type mu_X: float\n",
    "    \n",
    "    :param mu_Y: location parameter for Y\n",
    "    :type mu_Y: float\n",
    "    \n",
    "    :param sigma_X: scale parameter for X\n",
    "    :type sigma_X: float\n",
    "    \n",
    "    :param sigma_Y: scale parameter for Y\n",
    "    :type sigma_Y: float\n",
    "    \n",
    "    :param rho: correlation coefficient\n",
    "    :type rho: float\n",
    "    \n",
    "    :param given: value of the given variable\n",
    "    :type given: float\n",
    "    \n",
    "    :param draw_from_X: if True, draw from X given Y. \n",
    "        If False, draw from Y given X.\n",
    "    :type draw_from_Y: bool\n",
    "    \"\"\"\n",
    "    if draw_from_X:\n",
    "        mean = mu_X + sigma_X * rho * (given - mu_Y) / sigma_Y\n",
    "        var = (1 - rho * rho) * sigma_X * sigma_X\n",
    "    else:\n",
    "        mean = mu_Y + sigma_Y * rho * (given - mu_X) / sigma_X\n",
    "        var = (1 - rho * rho) * sigma_Y * sigma_Y\n",
    "\n",
    "    draw = np.random.normal(loc=mean, scale = np.sqrt(var))\n",
    "    return draw"
   ]
  },
  {
   "cell_type": "markdown",
   "id": "13f5eb46",
   "metadata": {},
   "source": [
    "Here, the state is a vector with the values of the parameters."
   ]
  },
  {
   "cell_type": "code",
   "execution_count": 3,
   "id": "b8e94230",
   "metadata": {},
   "outputs": [],
   "source": [
    "class normal_draws(State):\n",
    "    def __init__(\n",
    "        self, \n",
    "        xy,\n",
    "        draw_from_X,\n",
    "        draw_from_Y\n",
    "    ):\n",
    "        \"\"\"Constructor\n",
    "        \"\"\"\n",
    "        self.xy = xy\n",
    "        self.draw_from_X = draw_from_X\n",
    "        self.draw_from_Y = draw_from_Y\n",
    "   \n",
    "    def indicators(self):\n",
    "        \"\"\"The indicators are the parameters of interest, generated \n",
    "        by each draw. In this case, the indicators are the states \n",
    "        themselves.\n",
    "\n",
    "        :return: array of indicators\n",
    "        :rtype: numpy.array()\n",
    "        \"\"\"\n",
    "        return self.xy\n",
    "\n",
    "    def next_state(self):\n",
    "        \"\"\"\n",
    "        We select randomly a dimension, and draw from the marginal, \n",
    "        conditional on the over value. \n",
    "        Here, the transition probability are irrelevant.\n",
    "        \n",
    "        :return: state, logpij, logpji\n",
    "        :rtype: State, float, float\n",
    "\n",
    "\n",
    "        \"\"\"\n",
    "        # Decide if we draw from X or from Y\n",
    "        generate_X = np.random.uniform() <= 0.5\n",
    "        \n",
    "        if generate_X:\n",
    "            y_value = self.xy[1]\n",
    "            x_value = self.draw_from_X(y_value)\n",
    "        else:\n",
    "            x_value = self.xy[0]\n",
    "            y_value = self.draw_from_Y(x_value)\n",
    "            \n",
    "        next_state = normal_draws(\n",
    "            np.array([x_value, y_value]),\n",
    "            self.draw_from_X,\n",
    "            self.draw_from_Y,\n",
    "        )\n",
    "        return (\n",
    "            next_state, \n",
    "            0, \n",
    "            0,\n",
    "        )\n",
    "    \n",
    "    def logweight(self):\n",
    "        \"\"\"For Gibbs sampling, the weight are irrelevant, as all \n",
    "        draws are accepted. We return 0. \n",
    "\n",
    "        :return: log of the weight\n",
    "        :rtype: float\n",
    "        \"\"\"\n",
    "        \n",
    "        return 0\n",
    "\n"
   ]
  },
  {
   "cell_type": "markdown",
   "id": "7378b7da",
   "metadata": {},
   "source": [
    "Parameter of the target distribution"
   ]
  },
  {
   "cell_type": "code",
   "execution_count": 4,
   "id": "ba50753a",
   "metadata": {},
   "outputs": [],
   "source": [
    "mu_X = 0\n",
    "mu_Y = 2\n",
    "sigma_X = 2\n",
    "sigma_Y = 1\n",
    "rho = 0.99"
   ]
  },
  {
   "cell_type": "code",
   "execution_count": 5,
   "id": "e8f5b72e",
   "metadata": {},
   "outputs": [],
   "source": [
    "def draw_from_X(y):\n",
    "    return draw_marginals(mu_X, mu_Y, sigma_X, sigma_Y, rho, y, True)"
   ]
  },
  {
   "cell_type": "code",
   "execution_count": 6,
   "id": "d5e8b47d",
   "metadata": {},
   "outputs": [],
   "source": [
    "def draw_from_Y(x):\n",
    "    return draw_marginals(mu_X, mu_Y, sigma_X, sigma_Y, rho, x, False)"
   ]
  },
  {
   "cell_type": "markdown",
   "id": "65cf40ce",
   "metadata": {},
   "source": [
    "We start five independent Markov processes, each starting from a different state."
   ]
  },
  {
   "cell_type": "code",
   "execution_count": 7,
   "id": "10bb8f4d",
   "metadata": {},
   "outputs": [],
   "source": [
    "initialStates = [\n",
    "    normal_draws(\n",
    "        np.array([mu_X, mu_Y]), \n",
    "        draw_from_X,\n",
    "        draw_from_Y,\n",
    "    ),\n",
    "    normal_draws(\n",
    "        np.array([mu_X - 2 * sigma_X, mu_Y - 2 * sigma_Y]), \n",
    "        draw_from_X,\n",
    "        draw_from_Y,\n",
    "    ),\n",
    "    normal_draws(\n",
    "        np.array([mu_X + 2 * sigma_X, mu_Y + 2 * sigma_Y]), \n",
    "        draw_from_X,\n",
    "        draw_from_Y,\n",
    "    ),\n",
    "    normal_draws(\n",
    "        np.array([mu_X - 2 * sigma_X, mu_Y + 2 * sigma_Y]), \n",
    "        draw_from_X,\n",
    "        draw_from_Y,\n",
    "    ),\n",
    "    normal_draws(\n",
    "        np.array([mu_X + 2 * sigma_X, mu_Y - 2 * sigma_Y]), \n",
    "        draw_from_X,\n",
    "        draw_from_Y,\n",
    "    ),\n",
    "\n",
    "]"
   ]
  },
  {
   "cell_type": "code",
   "execution_count": 8,
   "id": "330fa2ee",
   "metadata": {},
   "outputs": [],
   "source": [
    "numberOfDraws = 100000\n",
    "maxNumberOfIterations = 10"
   ]
  },
  {
   "cell_type": "markdown",
   "id": "369aeed0",
   "metadata": {},
   "source": [
    "We apply the MH algorithm."
   ]
  },
  {
   "cell_type": "code",
   "execution_count": 9,
   "id": "5ff1c055",
   "metadata": {
    "scrolled": true
   },
   "outputs": [
    {
     "name": "stdout",
     "output_type": "stream",
     "text": [
      "Warmup\n"
     ]
    },
    {
     "name": "stderr",
     "output_type": "stream",
     "text": [
      "100%|██████████| 100000/100000 [00:01<00:00, 79733.69it/s]\n",
      "100%|██████████| 100000/100000 [00:01<00:00, 80943.68it/s]\n",
      "100%|██████████| 100000/100000 [00:01<00:00, 79756.41it/s]\n",
      "100%|██████████| 100000/100000 [00:01<00:00, 79458.60it/s]\n",
      "100%|██████████| 100000/100000 [00:01<00:00, 78095.27it/s]\n"
     ]
    },
    {
     "name": "stdout",
     "output_type": "stream",
     "text": [
      "Trial 0 with 100000 draws\n"
     ]
    },
    {
     "name": "stderr",
     "output_type": "stream",
     "text": [
      "100%|██████████| 100000/100000 [00:01<00:00, 70572.53it/s]\n",
      "100%|██████████| 100000/100000 [00:01<00:00, 77987.73it/s]\n",
      "100%|██████████| 100000/100000 [00:01<00:00, 77871.11it/s]\n",
      "100%|██████████| 100000/100000 [00:01<00:00, 71775.65it/s]\n",
      "100%|██████████| 100000/100000 [00:01<00:00, 75655.67it/s]\n"
     ]
    },
    {
     "name": "stdout",
     "output_type": "stream",
     "text": [
      "Generated draws: (5, 100000, 2)\n",
      "Success rate: 1.0\n",
      "Success rate: 1.0\n",
      "Success rate: 1.0\n",
      "Success rate: 1.0\n",
      "Success rate: 1.0\n",
      "Potential scale reduction: [1.00487063 1.00487853]\n",
      "    should be at most 1.1\n",
      "Effective number of simulation draws: [1170.46240976 1169.31076715]\n",
      "    should be at least 50\n"
     ]
    }
   ],
   "source": [
    "draws, estimates, convergence, numberOfTrials = mh.MetropolisHastings(\n",
    "    initialStates,\n",
    "    numberOfDraws,\n",
    "    maxNumberOfIterations,\n",
    ")"
   ]
  },
  {
   "cell_type": "markdown",
   "id": "e3878aaa",
   "metadata": {},
   "source": [
    "The sample mean of X and Y"
   ]
  },
  {
   "cell_type": "code",
   "execution_count": 10,
   "id": "7979de62",
   "metadata": {},
   "outputs": [
    {
     "data": {
      "text/plain": [
       "array([0.03450343, 2.01695361])"
      ]
     },
     "execution_count": 10,
     "metadata": {},
     "output_type": "execute_result"
    }
   ],
   "source": [
    "estimates"
   ]
  },
  {
   "cell_type": "markdown",
   "id": "acedeed2",
   "metadata": {},
   "source": [
    "Compared to the requested ones"
   ]
  },
  {
   "cell_type": "code",
   "execution_count": 11,
   "id": "19d25ca7",
   "metadata": {},
   "outputs": [
    {
     "data": {
      "text/plain": [
       "(0, 2)"
      ]
     },
     "execution_count": 11,
     "metadata": {},
     "output_type": "execute_result"
    }
   ],
   "source": [
    "mu_X, mu_Y"
   ]
  },
  {
   "cell_type": "markdown",
   "id": "a5aed21a",
   "metadata": {},
   "source": [
    "The sample standard deviation of X and Y"
   ]
  },
  {
   "cell_type": "code",
   "execution_count": 12,
   "id": "4bbaa0df",
   "metadata": {},
   "outputs": [
    {
     "name": "stdout",
     "output_type": "stream",
     "text": [
      "2.0194754856203088\n",
      "1.009824908532251\n"
     ]
    }
   ],
   "source": [
    "for d in draws:\n",
    "    print(np.std(d))"
   ]
  },
  {
   "cell_type": "markdown",
   "id": "ef2b1dd8",
   "metadata": {},
   "source": [
    "Compared to the requested one"
   ]
  },
  {
   "cell_type": "code",
   "execution_count": 13,
   "id": "42d55605",
   "metadata": {},
   "outputs": [
    {
     "data": {
      "text/plain": [
       "(2, 1)"
      ]
     },
     "execution_count": 13,
     "metadata": {},
     "output_type": "execute_result"
    }
   ],
   "source": [
    "sigma_X, sigma_Y"
   ]
  },
  {
   "cell_type": "markdown",
   "id": "d1851ae5",
   "metadata": {},
   "source": [
    "And the correlation coefficient"
   ]
  },
  {
   "cell_type": "code",
   "execution_count": 14,
   "id": "c2e30880",
   "metadata": {},
   "outputs": [
    {
     "data": {
      "text/plain": [
       "array([[1.        , 0.99019756],\n",
       "       [0.99019756, 1.        ]])"
      ]
     },
     "execution_count": 14,
     "metadata": {},
     "output_type": "execute_result"
    }
   ],
   "source": [
    "np.corrcoef(draws)"
   ]
  },
  {
   "cell_type": "markdown",
   "id": "0754bb6b",
   "metadata": {},
   "source": [
    "Compared to the requested one"
   ]
  },
  {
   "cell_type": "code",
   "execution_count": 15,
   "id": "18abfac4",
   "metadata": {},
   "outputs": [
    {
     "data": {
      "text/plain": [
       "0.99"
      ]
     },
     "execution_count": 15,
     "metadata": {},
     "output_type": "execute_result"
    }
   ],
   "source": [
    "rho"
   ]
  },
  {
   "cell_type": "markdown",
   "id": "a26f129a",
   "metadata": {},
   "source": [
    "We plot the draws"
   ]
  },
  {
   "cell_type": "code",
   "execution_count": 16,
   "id": "5e8158b9",
   "metadata": {},
   "outputs": [
    {
     "data": {
      "text/html": [
       "<div>\n",
       "<style scoped>\n",
       "    .dataframe tbody tr th:only-of-type {\n",
       "        vertical-align: middle;\n",
       "    }\n",
       "\n",
       "    .dataframe tbody tr th {\n",
       "        vertical-align: top;\n",
       "    }\n",
       "\n",
       "    .dataframe thead th {\n",
       "        text-align: right;\n",
       "    }\n",
       "</style>\n",
       "<table border=\"1\" class=\"dataframe\">\n",
       "  <thead>\n",
       "    <tr style=\"text-align: right;\">\n",
       "      <th></th>\n",
       "      <th>X</th>\n",
       "      <th>Y</th>\n",
       "    </tr>\n",
       "  </thead>\n",
       "  <tbody>\n",
       "    <tr>\n",
       "      <th>0</th>\n",
       "      <td>1.544756</td>\n",
       "      <td>2.699303</td>\n",
       "    </tr>\n",
       "    <tr>\n",
       "      <th>1</th>\n",
       "      <td>1.109918</td>\n",
       "      <td>2.699303</td>\n",
       "    </tr>\n",
       "    <tr>\n",
       "      <th>2</th>\n",
       "      <td>1.477945</td>\n",
       "      <td>2.699303</td>\n",
       "    </tr>\n",
       "    <tr>\n",
       "      <th>3</th>\n",
       "      <td>1.477945</td>\n",
       "      <td>2.849537</td>\n",
       "    </tr>\n",
       "    <tr>\n",
       "      <th>4</th>\n",
       "      <td>1.583313</td>\n",
       "      <td>2.849537</td>\n",
       "    </tr>\n",
       "    <tr>\n",
       "      <th>...</th>\n",
       "      <td>...</td>\n",
       "      <td>...</td>\n",
       "    </tr>\n",
       "    <tr>\n",
       "      <th>499995</th>\n",
       "      <td>3.679213</td>\n",
       "      <td>3.886368</td>\n",
       "    </tr>\n",
       "    <tr>\n",
       "      <th>499996</th>\n",
       "      <td>3.502285</td>\n",
       "      <td>3.886368</td>\n",
       "    </tr>\n",
       "    <tr>\n",
       "      <th>499997</th>\n",
       "      <td>3.502285</td>\n",
       "      <td>3.847118</td>\n",
       "    </tr>\n",
       "    <tr>\n",
       "      <th>499998</th>\n",
       "      <td>3.396552</td>\n",
       "      <td>3.847118</td>\n",
       "    </tr>\n",
       "    <tr>\n",
       "      <th>499999</th>\n",
       "      <td>3.396552</td>\n",
       "      <td>3.311733</td>\n",
       "    </tr>\n",
       "  </tbody>\n",
       "</table>\n",
       "<p>500000 rows × 2 columns</p>\n",
       "</div>"
      ],
      "text/plain": [
       "               X         Y\n",
       "0       1.544756  2.699303\n",
       "1       1.109918  2.699303\n",
       "2       1.477945  2.699303\n",
       "3       1.477945  2.849537\n",
       "4       1.583313  2.849537\n",
       "...          ...       ...\n",
       "499995  3.679213  3.886368\n",
       "499996  3.502285  3.886368\n",
       "499997  3.502285  3.847118\n",
       "499998  3.396552  3.847118\n",
       "499999  3.396552  3.311733\n",
       "\n",
       "[500000 rows x 2 columns]"
      ]
     },
     "execution_count": 16,
     "metadata": {},
     "output_type": "execute_result"
    }
   ],
   "source": [
    "df = pd.DataFrame({'X': draws[0], 'Y': draws[1]})\n",
    "df"
   ]
  },
  {
   "cell_type": "code",
   "execution_count": 17,
   "id": "c1361035",
   "metadata": {},
   "outputs": [
    {
     "data": {
      "text/plain": [
       "-8.091269225357014"
      ]
     },
     "execution_count": 17,
     "metadata": {},
     "output_type": "execute_result"
    }
   ],
   "source": [
    "minimum_value = draws.min()\n",
    "minimum_value"
   ]
  },
  {
   "cell_type": "code",
   "execution_count": 18,
   "id": "a9b074be",
   "metadata": {},
   "outputs": [
    {
     "data": {
      "text/plain": [
       "9.046996555324167"
      ]
     },
     "execution_count": 18,
     "metadata": {},
     "output_type": "execute_result"
    }
   ],
   "source": [
    "maximum_value = draws.max()\n",
    "maximum_value"
   ]
  },
  {
   "cell_type": "markdown",
   "id": "8316e5bb",
   "metadata": {},
   "source": [
    "Finally, we plot the draws and show their marginal distributions."
   ]
  },
  {
   "cell_type": "code",
   "execution_count": 19,
   "id": "651cfe43",
   "metadata": {},
   "outputs": [
    {
     "data": {
      "image/png": "[encoded data removed]",
      "text/plain": [
       "<Figure size 432x432 with 3 Axes>"
      ]
     },
     "metadata": {
      "needs_background": "light"
     },
     "output_type": "display_data"
    }
   ],
   "source": [
    "join_graph = sns.jointplot(data=df, x='X', y='Y')\n",
    "join_graph.ax_marg_x.set_xlim(minimum_value, maximum_value)\n",
    "join_graph.ax_marg_y.set_ylim(minimum_value, maximum_value)\n",
    "plt.show()"
   ]
  }
 ],
 "metadata": {
  "kernelspec": {
   "display_name": "Python 3",
   "language": "python",
   "name": "python3"
  },
  "language_info": {
   "codemirror_mode": {
    "name": "ipython",
    "version": 3
   },
   "file_extension": ".py",
   "mimetype": "text/x-python",
   "name": "python",
   "nbconvert_exporter": "python",
   "pygments_lexer": "ipython3",
   "version": "3.9.5"
  }
 },
 "nbformat": 4,
 "nbformat_minor": 5
}
